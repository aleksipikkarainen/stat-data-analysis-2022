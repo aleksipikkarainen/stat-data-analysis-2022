{
 "cells": [
  {
   "cell_type": "code",
   "execution_count": 46,
   "id": "7cd31978-3793-4e44-ac1c-af1bdcee16cd",
   "metadata": {},
   "outputs": [
    {
     "data": {
      "text/plain": [
       "2 1 530101 38.50 66 28 3 3 ? 2 5 4 4 ? ? ? 3 5 45.00 8.40 ? ? 2 2 11300 00000 00000 2    object\n",
       "dtype: object"
      ]
     },
     "execution_count": 46,
     "metadata": {},
     "output_type": "execute_result"
    }
   ],
   "source": [
    "import pandas as pd\n",
    "import statsmodels\n",
    "import statsmodels.formula.api as test\n",
    "import statsmodels.api as sm\n",
    "import numpy\n",
    "from scipy.stats import f_oneway\n",
    "\n",
    "\n",
    "#1\n",
    "#a), small size, so let's assume normality\n",
    "data=pd.DataFrame({\"dataset1\":(2,3,5,4,4,3),\"dataset2\":(4,2,3,5,2,3),\"dataset3\":(3,1,4,4,3,5)})\n",
    "modified_data=pd.melt(data,value_vars=['dataset1','dataset2','dataset3'])\n",
    "modified_data.columns=['dataset','value']\n",
    "#model\n",
    "model=test.ols('value~C(dataset)',data=modified_data).fit()\n",
    "#ANOVA\n",
    "anova= sm.stats.anova_lm(model,typ=1)\n",
    "anova\n",
    "# p = 0.89, not scientifically significant\n",
    "\n",
    "#b)\n",
    "data=numpy.array([[3,2,1],[3,1,2],[1,3,2]])\n",
    "stats.chi2_contingency(data)[1]\n",
    "# p = 0.63, not scientifically significant\n",
    "\n",
    "#2\n",
    "#a) Variables were cumulative fraction and cytotoxic/exhausted score\n",
    "# of normal lung tissue, subsolid nolues and lymph node metastasis\n",
    "# P value was calculated by two-sided unpaired Kruskal-Wallis rank sum test.\n",
    "\n",
    "#b) Variables were income level, government effectiveness score,\n",
    "# percentage of old people compared to the rest of the population,\n",
    "# and numbers of hospital beds. Due to variables being categorical,\n",
    "# they probably used a Pearson's Chi Squared test\n",
    "\n",
    "#3\n",
    "df = pd.read_csv(\"simulated_data_2_5.csv\")\n",
    "df_melt = pd.melt(df.reset_index(), id_vars=['index'], value_vars=['F', 'G', 'H', 'I'])\n",
    "fvalue, pvalue = f_oneway(df[\"F\"],df[\"G\"],df[\"H\"])\n",
    "print(fvalue, pvalue)\n",
    "\n",
    "#We used these last week and I'll just use the information from\n",
    "#there to find out that everything is normal except for I.\n",
    "\n",
    "#a) this should work but there's a byte sideways or something\n",
    "#b)\n",
    "\n",
    "\n",
    "#4 \n",
    "#I don't understand this because the material only tells of Benjamini & Hochberg\n",
    "\n",
    "#5\n",
    "#data = pd.read_csv(\"horse-colic.data\", na_values=\"?\")\n",
    "\n"
   ]
  },
  {
   "cell_type": "code",
   "execution_count": null,
   "id": "3da4a467-9dac-4e28-9308-c14c985aa1e5",
   "metadata": {},
   "outputs": [],
   "source": []
  }
 ],
 "metadata": {
  "kernelspec": {
   "display_name": "Python 3 (ipykernel)",
   "language": "python",
   "name": "python3"
  },
  "language_info": {
   "codemirror_mode": {
    "name": "ipython",
    "version": 3
   },
   "file_extension": ".py",
   "mimetype": "text/x-python",
   "name": "python",
   "nbconvert_exporter": "python",
   "pygments_lexer": "ipython3",
   "version": "3.10.1"
  }
 },
 "nbformat": 4,
 "nbformat_minor": 5
}
